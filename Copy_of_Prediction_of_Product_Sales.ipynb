{
  "nbformat": 4,
  "nbformat_minor": 0,
  "metadata": {
    "colab": {
      "provenance": [],
      "mount_file_id": "1q8W9J_xjisDPppHWF9j6ZQ7UEWDwS55Y",
      "authorship_tag": "ABX9TyNd5n4h0nF5CvFGuoKQqNyt",
      "include_colab_link": true
    },
    "kernelspec": {
      "name": "python3",
      "display_name": "Python 3"
    },
    "language_info": {
      "name": "python"
    }
  },
  "cells": [
    {
      "cell_type": "markdown",
      "metadata": {
        "id": "view-in-github",
        "colab_type": "text"
      },
      "source": [
        "<a href=\"https://colab.research.google.com/github/KenLGrid/Prediction-of-Product-Sales/blob/main/Copy_of_Prediction_of_Product_Sales.ipynb\" target=\"_parent\"><img src=\"https://colab.research.google.com/assets/colab-badge.svg\" alt=\"Open In Colab\"/></a>"
      ]
    },
    {
      "cell_type": "markdown",
      "source": [
        "# Prediction of Product Sales"
      ],
      "metadata": {
        "id": "5YH9RG7-0hMT"
      }
    },
    {
      "cell_type": "markdown",
      "source": [
        "- Author: Kenya Carmichael"
      ],
      "metadata": {
        "id": "NgLbRJ0o0uON"
      }
    },
    {
      "cell_type": "markdown",
      "source": [
        "## Project Overview"
      ],
      "metadata": {
        "id": "pp1jrzej07jg"
      }
    },
    {
      "cell_type": "markdown",
      "source": [
        "## Load and Inspect Data"
      ],
      "metadata": {
        "id": "40F4WV7s1B7P"
      }
    },
    {
      "cell_type": "code",
      "source": [
        "import pandas as pd\n",
        "import numpy as np\n"
      ],
      "metadata": {
        "id": "eC55bs0y1cRH"
      },
      "execution_count": 3,
      "outputs": []
    },
    {
      "cell_type": "code",
      "source": [
        "# Save the filepath and load the data\n",
        "fname = \"/content/drive/MyDrive/CodingDojo/01-Fundamentals/Week02/Data/sales_predictions_2023.csv\"\n",
        "df = pd.read_csv(fname)"
      ],
      "metadata": {
        "id": "qH77xizkA3eM"
      },
      "execution_count": 5,
      "outputs": []
    },
    {
      "cell_type": "code",
      "source": [
        "# Display the first 5 rows\n",
        "df.head()"
      ],
      "metadata": {
        "id": "NtPEMUlWEXt4"
      },
      "execution_count": null,
      "outputs": []
    },
    {
      "cell_type": "markdown",
      "source": [
        "## Clean Data"
      ],
      "metadata": {
        "id": "S6xhF0SP1Gbg"
      }
    },
    {
      "cell_type": "code",
      "source": [
        "# Display the info for the dataframe\n",
        "df.info()"
      ],
      "metadata": {
        "id": "8We5Dv-6EmaB"
      },
      "execution_count": null,
      "outputs": []
    },
    {
      "cell_type": "code",
      "source": [
        "# Display the last 5 rows\n",
        "df.tail()"
      ],
      "metadata": {
        "id": "3bd0RgflEdx2"
      },
      "execution_count": null,
      "outputs": []
    },
    {
      "cell_type": "code",
      "source": [
        "# How many rows/columns in dataset\n",
        "df.shape"
      ],
      "metadata": {
        "id": "H4iqu0h-1dKI",
        "colab": {
          "base_uri": "https://localhost:8080/"
        },
        "outputId": "9cd0a728-2cdb-4771-ab98-da4eb148000e"
      },
      "execution_count": 10,
      "outputs": [
        {
          "output_type": "execute_result",
          "data": {
            "text/plain": [
              "(8523, 12)"
            ]
          },
          "metadata": {},
          "execution_count": 10
        }
      ]
    },
    {
      "cell_type": "code",
      "source": [
        "# Check the datatypes\n",
        "df.dtypes"
      ],
      "metadata": {
        "id": "yoyhHND7FTv4"
      },
      "execution_count": null,
      "outputs": []
    },
    {
      "cell_type": "code",
      "source": [
        "# Save a filter called \"duplicated_rows\" that identifies duplicated rows\n",
        "duplicated_rows = df.duplicated()\n",
        "\n",
        "# Get the sum of duplicated_rows filter to see the number of duplicate rows\n",
        "num_duplicates = duplicated_rows.sum()\n",
        "print(\"Number of duplicated rows:\", num_duplicates)"
      ],
      "metadata": {
        "colab": {
          "base_uri": "https://localhost:8080/"
        },
        "id": "D0sk7InyGHOY",
        "outputId": "b85f19f1-216b-4b05-9419-10c4f31660fd"
      },
      "execution_count": 12,
      "outputs": [
        {
          "output_type": "stream",
          "name": "stdout",
          "text": [
            "Number of duplicated rows: 0\n"
          ]
        }
      ]
    },
    {
      "cell_type": "code",
      "source": [
        "# Save a new filter called \"duplicated_rows_all\" that identifies ALL\n",
        "# of the duplicated rows (including the first). Hint: use the \"keep\" argument.\n",
        "duplicated_rows_all = df.duplicated(keep='first')\n",
        "\n"
      ],
      "metadata": {
        "id": "nlAzYDCYGPx3"
      },
      "execution_count": 17,
      "outputs": []
    },
    {
      "cell_type": "markdown",
      "source": [
        "## Exploratory Data Analysis"
      ],
      "metadata": {
        "id": "C97u0jnB1J8B"
      }
    },
    {
      "cell_type": "code",
      "source": [],
      "metadata": {
        "id": "Nnro16Bi1dwS"
      },
      "execution_count": null,
      "outputs": []
    },
    {
      "cell_type": "markdown",
      "source": [
        "## Feature Inspection"
      ],
      "metadata": {
        "id": "23ULZCoj1ObS"
      }
    },
    {
      "cell_type": "code",
      "source": [],
      "metadata": {
        "id": "lpVKByBa1eNu"
      },
      "execution_count": null,
      "outputs": []
    }
  ]
}