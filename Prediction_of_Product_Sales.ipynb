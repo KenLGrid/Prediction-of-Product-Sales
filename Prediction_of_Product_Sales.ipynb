{
  "nbformat": 4,
  "nbformat_minor": 0,
  "metadata": {
    "colab": {
      "provenance": [],
      "toc_visible": true,
      "authorship_tag": "ABX9TyOPekrVNI8zEs5tDgNJ8ZjW",
      "include_colab_link": true
    },
    "kernelspec": {
      "name": "python3",
      "display_name": "Python 3"
    },
    "language_info": {
      "name": "python"
    }
  },
  "cells": [
    {
      "cell_type": "markdown",
      "metadata": {
        "id": "view-in-github",
        "colab_type": "text"
      },
      "source": [
        "<a href=\"https://colab.research.google.com/github/KenLGrid/Prediction-of-Product-Sales/blob/main/Prediction_of_Product_Sales.ipynb\" target=\"_parent\"><img src=\"https://colab.research.google.com/assets/colab-badge.svg\" alt=\"Open In Colab\"/></a>"
      ]
    },
    {
      "cell_type": "markdown",
      "source": [
        "# Prediction of Product Sales"
      ],
      "metadata": {
        "id": "5YH9RG7-0hMT"
      }
    },
    {
      "cell_type": "markdown",
      "source": [
        "- Author: Kenya Carmichael"
      ],
      "metadata": {
        "id": "NgLbRJ0o0uON"
      }
    },
    {
      "cell_type": "markdown",
      "source": [
        "## Project Overview"
      ],
      "metadata": {
        "id": "pp1jrzej07jg"
      }
    },
    {
      "cell_type": "markdown",
      "source": [
        "## Load and Inspect Data"
      ],
      "metadata": {
        "id": "40F4WV7s1B7P"
      }
    },
    {
      "cell_type": "code",
      "source": [],
      "metadata": {
        "id": "eC55bs0y1cRH"
      },
      "execution_count": null,
      "outputs": []
    },
    {
      "cell_type": "markdown",
      "source": [
        "## Clean Data"
      ],
      "metadata": {
        "id": "S6xhF0SP1Gbg"
      }
    },
    {
      "cell_type": "code",
      "source": [],
      "metadata": {
        "id": "H4iqu0h-1dKI"
      },
      "execution_count": null,
      "outputs": []
    },
    {
      "cell_type": "markdown",
      "source": [
        "## Exploratory Data Analysis"
      ],
      "metadata": {
        "id": "C97u0jnB1J8B"
      }
    },
    {
      "cell_type": "code",
      "source": [],
      "metadata": {
        "id": "Nnro16Bi1dwS"
      },
      "execution_count": null,
      "outputs": []
    },
    {
      "cell_type": "markdown",
      "source": [
        "## Feature Inspection"
      ],
      "metadata": {
        "id": "23ULZCoj1ObS"
      }
    },
    {
      "cell_type": "code",
      "source": [],
      "metadata": {
        "id": "lpVKByBa1eNu"
      },
      "execution_count": null,
      "outputs": []
    }
  ]
}