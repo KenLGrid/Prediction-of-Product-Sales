{
  "nbformat": 4,
  "nbformat_minor": 0,
  "metadata": {
    "colab": {
      "provenance": [],
      "mount_file_id": "1PdPoLTwQ8Uazh-Fbk-ZEjgxbmmesfyfI",
      "authorship_tag": "ABX9TyOrfDW/TTsO1veEXaXexGtC",
      "include_colab_link": true
    },
    "kernelspec": {
      "name": "python3",
      "display_name": "Python 3"
    },
    "language_info": {
      "name": "python"
    }
  },
  "cells": [
    {
      "cell_type": "markdown",
      "metadata": {
        "id": "view-in-github",
        "colab_type": "text"
      },
      "source": [
        "<a href=\"https://colab.research.google.com/github/KenLGrid/Prediction-of-Product-Sales/blob/main/Copy_of_Copy_of_Prediction_of_Product_Sales9_9_23.ipynb\" target=\"_parent\"><img src=\"https://colab.research.google.com/assets/colab-badge.svg\" alt=\"Open In Colab\"/></a>"
      ]
    },
    {
      "cell_type": "markdown",
      "source": [
        "# Prediction of Product Sales"
      ],
      "metadata": {
        "id": "5YH9RG7-0hMT"
      }
    },
    {
      "cell_type": "markdown",
      "source": [
        "- Author: Kenya Carmichael"
      ],
      "metadata": {
        "id": "NgLbRJ0o0uON"
      }
    },
    {
      "cell_type": "markdown",
      "source": [
        "## Project Overview"
      ],
      "metadata": {
        "id": "pp1jrzej07jg"
      }
    },
    {
      "cell_type": "markdown",
      "source": [
        "## Load and Inspect Data"
      ],
      "metadata": {
        "id": "40F4WV7s1B7P"
      }
    },
    {
      "cell_type": "code",
      "source": [
        "import pandas as pd\n",
        "import numpy as np\n",
        "import matplotlib.pyplot as plt\n",
        "import seaborn as sns\n"
      ],
      "metadata": {
        "id": "eC55bs0y1cRH"
      },
      "execution_count": 54,
      "outputs": []
    },
    {
      "cell_type": "code",
      "source": [
        "# Save the filepath and load the data\n",
        "fname = \"/content/drive/MyDrive/CodingDojo/01-Fundamentals/Week02/Data/sales_predictions_2023.csv\"\n",
        "df = pd.read_csv(fname)"
      ],
      "metadata": {
        "id": "qH77xizkA3eM"
      },
      "execution_count": 55,
      "outputs": []
    },
    {
      "cell_type": "markdown",
      "source": [
        "## Clean Data"
      ],
      "metadata": {
        "id": "S6xhF0SP1Gbg"
      }
    },
    {
      "cell_type": "code",
      "source": [
        "# HOW MANY ROWS/COLUMNS IN THE DATASET?\n",
        "df.shape"
      ],
      "metadata": {
        "id": "H4iqu0h-1dKI",
        "colab": {
          "base_uri": "https://localhost:8080/"
        },
        "outputId": "6244ad57-36c0-4876-a0be-8722cc41f946"
      },
      "execution_count": 60,
      "outputs": [
        {
          "output_type": "execute_result",
          "data": {
            "text/plain": [
              "(8523, 12)"
            ]
          },
          "metadata": {},
          "execution_count": 60
        }
      ]
    },
    {
      "cell_type": "code",
      "source": [
        "# CHECK THE DATATYPES:\n",
        "df.dtypes"
      ],
      "metadata": {
        "id": "yoyhHND7FTv4",
        "colab": {
          "base_uri": "https://localhost:8080/"
        },
        "outputId": "ec26f779-267d-4dda-e909-217b12a0761c"
      },
      "execution_count": 59,
      "outputs": [
        {
          "output_type": "execute_result",
          "data": {
            "text/plain": [
              "Item_Identifier               object\n",
              "Item_Weight                  float64\n",
              "Item_Fat_Content              object\n",
              "Item_Visibility              float64\n",
              "Item_Type                     object\n",
              "Item_MRP                     float64\n",
              "Outlet_Identifier             object\n",
              "Outlet_Establishment_Year      int64\n",
              "Outlet_Size                   object\n",
              "Outlet_Location_Type          object\n",
              "Outlet_Type                   object\n",
              "Item_Outlet_Sales            float64\n",
              "dtype: object"
            ]
          },
          "metadata": {},
          "execution_count": 59
        }
      ]
    },
    {
      "cell_type": "code",
      "source": [
        "# Display the info for the dataframe\n",
        "df.info()"
      ],
      "metadata": {
        "id": "8We5Dv-6EmaB"
      },
      "execution_count": null,
      "outputs": []
    },
    {
      "cell_type": "code",
      "source": [
        "# Display the first 5 rows\n",
        "df.head()"
      ],
      "metadata": {
        "id": "NtPEMUlWEXt4"
      },
      "execution_count": null,
      "outputs": []
    },
    {
      "cell_type": "code",
      "source": [
        "# Display the last 5 rows\n",
        "df.tail()"
      ],
      "metadata": {
        "id": "3bd0RgflEdx2"
      },
      "execution_count": null,
      "outputs": []
    },
    {
      "cell_type": "code",
      "source": [
        "# ARE THERE ANY DUPLICATES?\n",
        "# Save a filter called \"duplicated_rows\" that identifies duplicated rows\n",
        "duplicated_rows = df.duplicated()\n",
        "\n",
        "# Get the sum of duplicated_rows filter to see the number of duplicate rows\n",
        "num_duplicates = duplicated_rows.sum()\n",
        "print(\"Number of duplicated rows:\", num_duplicates)"
      ],
      "metadata": {
        "id": "D0sk7InyGHOY",
        "colab": {
          "base_uri": "https://localhost:8080/"
        },
        "outputId": "8b8108b8-3c3d-4849-87b7-a62483423c62"
      },
      "execution_count": 61,
      "outputs": [
        {
          "output_type": "stream",
          "name": "stdout",
          "text": [
            "Number of duplicated rows: 0\n"
          ]
        }
      ]
    },
    {
      "cell_type": "code",
      "source": [
        "# MISSING VALUES:\n",
        "# Load the dataset into a DataFrame\n",
        "\n",
        "df = pd.read_csv(fname)\n",
        "\n",
        "null_sums = df.isna().sum()\n",
        "null_sums"
      ],
      "metadata": {
        "id": "lpVKByBa1eNu"
      },
      "execution_count": 63,
      "outputs": []
    },
    {
      "cell_type": "code",
      "source": [
        "# MISSING VALUES:\n",
        "# Check the datatype\n",
        "\n",
        "type(null_sums)"
      ],
      "metadata": {
        "colab": {
          "base_uri": "https://localhost:8080/"
        },
        "id": "ndONHrgoEgyC",
        "outputId": "5d5eb036-4452-4973-d898-e8a59e084296"
      },
      "execution_count": 64,
      "outputs": [
        {
          "output_type": "execute_result",
          "data": {
            "text/plain": [
              "pandas.core.series.Series"
            ]
          },
          "metadata": {},
          "execution_count": 64
        }
      ]
    },
    {
      "cell_type": "code",
      "source": [
        "# MISSING VALUES:\n",
        "# Get the % of null values\n",
        "\n",
        "null_percent = null_sums/len(df) * 100\n",
        "null_percent"
      ],
      "metadata": {
        "colab": {
          "base_uri": "https://localhost:8080/"
        },
        "id": "r45KPQG1ExrO",
        "outputId": "352b2a55-1578-49fa-f9a7-12cdbe94f1b1"
      },
      "execution_count": 65,
      "outputs": [
        {
          "output_type": "execute_result",
          "data": {
            "text/plain": [
              "Item_Identifier               0.000000\n",
              "Item_Weight                  17.165317\n",
              "Item_Fat_Content              0.000000\n",
              "Item_Visibility               0.000000\n",
              "Item_Type                     0.000000\n",
              "Item_MRP                      0.000000\n",
              "Outlet_Identifier             0.000000\n",
              "Outlet_Establishment_Year     0.000000\n",
              "Outlet_Size                  28.276428\n",
              "Outlet_Location_Type          0.000000\n",
              "Outlet_Type                   0.000000\n",
              "Item_Outlet_Sales             0.000000\n",
              "dtype: float64"
            ]
          },
          "metadata": {},
          "execution_count": 65
        }
      ]
    },
    {
      "cell_type": "code",
      "source": [
        "# MISSING VALUES:\n",
        "# Viewing only columns with null values\n",
        "\n",
        "null_percent[null_percent>0]"
      ],
      "metadata": {
        "colab": {
          "base_uri": "https://localhost:8080/"
        },
        "id": "N4JoU8IsFJna",
        "outputId": "a3d5ad5f-d033-4483-a416-8d6ed457254a"
      },
      "execution_count": 66,
      "outputs": [
        {
          "output_type": "execute_result",
          "data": {
            "text/plain": [
              "Item_Weight    17.165317\n",
              "Outlet_Size    28.276428\n",
              "dtype: float64"
            ]
          },
          "metadata": {},
          "execution_count": 66
        }
      ]
    },
    {
      "cell_type": "code",
      "source": [
        "# MISSING VALUES:\n",
        "# Visualizing null values\n",
        "# Run the Matrix function on the dataframe\n",
        "\n",
        "import missingno as msno\n",
        "msno.matrix(df);"
      ],
      "metadata": {
        "id": "7KgHWDWJ06jm"
      },
      "execution_count": null,
      "outputs": []
    },
    {
      "cell_type": "code",
      "source": [
        "# MISSING VALUES:\n",
        "# Using fillna to fill nulls with N/A\n",
        "\n",
        "df['Outlet_Size'] = df['Outlet_Size'].fillna(\"N/A\")\n",
        "df['Outlet_Size'].value_counts(dropna=False)"
      ],
      "metadata": {
        "colab": {
          "base_uri": "https://localhost:8080/"
        },
        "id": "bupjmSJXGv-G",
        "outputId": "cf34cdab-1fa1-4723-ef39-53b86b48b462"
      },
      "execution_count": 68,
      "outputs": [
        {
          "output_type": "execute_result",
          "data": {
            "text/plain": [
              "Medium    2793\n",
              "N/A       2410\n",
              "Small     2388\n",
              "High       932\n",
              "Name: Outlet_Size, dtype: int64"
            ]
          },
          "metadata": {},
          "execution_count": 68
        }
      ]
    },
    {
      "cell_type": "code",
      "source": [
        "# MISSING VALUES:\n",
        "# Using fillna to fill nulls with N/A\n",
        "df['Item_Weight'] = df['Item_Weight'].fillna(\"N/A\")\n",
        "df['Item_Weight'].value_counts(dropna=False)"
      ],
      "metadata": {
        "colab": {
          "base_uri": "https://localhost:8080/"
        },
        "id": "N9Qzhs1BH35y",
        "outputId": "0a0726d3-8473-4c17-abf6-dd9c74ab0283"
      },
      "execution_count": 69,
      "outputs": [
        {
          "output_type": "execute_result",
          "data": {
            "text/plain": [
              "N/A      1463\n",
              "12.15      86\n",
              "17.6       82\n",
              "13.65      77\n",
              "11.8       76\n",
              "         ... \n",
              "7.275       2\n",
              "7.685       1\n",
              "9.42        1\n",
              "6.52        1\n",
              "5.4         1\n",
              "Name: Item_Weight, Length: 416, dtype: int64"
            ]
          },
          "metadata": {},
          "execution_count": 69
        }
      ]
    },
    {
      "cell_type": "code",
      "source": [
        "# FIND AND FIX ANY INCONSISTENT CATEGORIES OF DATA:\n",
        "# Identify string columns\n",
        "string_cols = df.select_dtypes(\"object\").columns\n",
        "string_cols"
      ],
      "metadata": {
        "colab": {
          "base_uri": "https://localhost:8080/"
        },
        "id": "uqPkZ9OpNn0i",
        "outputId": "b7363635-1a3f-4576-db14-e115bbb0f181"
      },
      "execution_count": 70,
      "outputs": [
        {
          "output_type": "execute_result",
          "data": {
            "text/plain": [
              "Index(['Item_Identifier', 'Item_Weight', 'Item_Fat_Content', 'Item_Type',\n",
              "       'Outlet_Identifier', 'Outlet_Size', 'Outlet_Location_Type',\n",
              "       'Outlet_Type'],\n",
              "      dtype='object')"
            ]
          },
          "metadata": {},
          "execution_count": 70
        }
      ]
    },
    {
      "cell_type": "code",
      "source": [
        "# FIND AND FIX ANY INCONSISTENT CATEGORIES OF DATA:\n",
        "# Obtain the value counts for all string columns\n",
        "for col in string_cols:\n",
        "  print(f\"Value Counts for {col}\")\n",
        "  print(df[col].value_counts())\n",
        "  # Increasing readability by adding an empty line\n",
        "  print('\\n')"
      ],
      "metadata": {
        "colab": {
          "base_uri": "https://localhost:8080/"
        },
        "id": "Z4Pyo8aiN-sz",
        "outputId": "aca4c25d-79c1-405a-ef71-df9053a2a80d"
      },
      "execution_count": 71,
      "outputs": [
        {
          "output_type": "stream",
          "name": "stdout",
          "text": [
            "Value Counts for Item_Identifier\n",
            "FDW13    10\n",
            "FDG33    10\n",
            "NCY18     9\n",
            "FDD38     9\n",
            "DRE49     9\n",
            "         ..\n",
            "FDY43     1\n",
            "FDQ60     1\n",
            "FDO33     1\n",
            "DRF48     1\n",
            "FDC23     1\n",
            "Name: Item_Identifier, Length: 1559, dtype: int64\n",
            "\n",
            "\n",
            "Value Counts for Item_Weight\n",
            "N/A      1463\n",
            "12.15      86\n",
            "17.6       82\n",
            "13.65      77\n",
            "11.8       76\n",
            "         ... \n",
            "7.275       2\n",
            "7.685       1\n",
            "9.42        1\n",
            "6.52        1\n",
            "5.4         1\n",
            "Name: Item_Weight, Length: 416, dtype: int64\n",
            "\n",
            "\n",
            "Value Counts for Item_Fat_Content\n",
            "Low Fat    5089\n",
            "Regular    2889\n",
            "LF          316\n",
            "reg         117\n",
            "low fat     112\n",
            "Name: Item_Fat_Content, dtype: int64\n",
            "\n",
            "\n",
            "Value Counts for Item_Type\n",
            "Fruits and Vegetables    1232\n",
            "Snack Foods              1200\n",
            "Household                 910\n",
            "Frozen Foods              856\n",
            "Dairy                     682\n",
            "Canned                    649\n",
            "Baking Goods              648\n",
            "Health and Hygiene        520\n",
            "Soft Drinks               445\n",
            "Meat                      425\n",
            "Breads                    251\n",
            "Hard Drinks               214\n",
            "Others                    169\n",
            "Starchy Foods             148\n",
            "Breakfast                 110\n",
            "Seafood                    64\n",
            "Name: Item_Type, dtype: int64\n",
            "\n",
            "\n",
            "Value Counts for Outlet_Identifier\n",
            "OUT027    935\n",
            "OUT013    932\n",
            "OUT049    930\n",
            "OUT046    930\n",
            "OUT035    930\n",
            "OUT045    929\n",
            "OUT018    928\n",
            "OUT017    926\n",
            "OUT010    555\n",
            "OUT019    528\n",
            "Name: Outlet_Identifier, dtype: int64\n",
            "\n",
            "\n",
            "Value Counts for Outlet_Size\n",
            "Medium    2793\n",
            "N/A       2410\n",
            "Small     2388\n",
            "High       932\n",
            "Name: Outlet_Size, dtype: int64\n",
            "\n",
            "\n",
            "Value Counts for Outlet_Location_Type\n",
            "Tier 3    3350\n",
            "Tier 2    2785\n",
            "Tier 1    2388\n",
            "Name: Outlet_Location_Type, dtype: int64\n",
            "\n",
            "\n",
            "Value Counts for Outlet_Type\n",
            "Supermarket Type1    5577\n",
            "Grocery Store        1083\n",
            "Supermarket Type3     935\n",
            "Supermarket Type2     928\n",
            "Name: Outlet_Type, dtype: int64\n",
            "\n",
            "\n"
          ]
        }
      ]
    },
    {
      "cell_type": "code",
      "source": [
        "# FIND AND FIX ANY INCONSISTENT CATEGORIES OF DATA:\n",
        "# Check the unique values and counts of the 'Item_Fat_Content' column\n",
        "df['Item_Fat_Content'].value_counts()"
      ],
      "metadata": {
        "colab": {
          "base_uri": "https://localhost:8080/"
        },
        "id": "_y-hYa20PTvz",
        "outputId": "5622e2d8-6085-4d28-c725-b84dbcaefefb"
      },
      "execution_count": 72,
      "outputs": [
        {
          "output_type": "execute_result",
          "data": {
            "text/plain": [
              "Low Fat    5089\n",
              "Regular    2889\n",
              "LF          316\n",
              "reg         117\n",
              "low fat     112\n",
              "Name: Item_Fat_Content, dtype: int64"
            ]
          },
          "metadata": {},
          "execution_count": 72
        }
      ]
    },
    {
      "cell_type": "code",
      "source": [
        "# FIND AND FIX ANY INCONSISTENT CATEGORIES OF DATA:\n",
        "# Standardize the values in the Item_Fat_Content column\n",
        "df['Item_Fat_Content'] = df['Item_Fat_Content'].replace({'LF':\"Low Fat\",'reg':'Regular','low fat': 'Low Fat'})\n",
        "df['Item_Fat_Content'].value_counts()"
      ],
      "metadata": {
        "colab": {
          "base_uri": "https://localhost:8080/"
        },
        "id": "kN2xRX12P8H_",
        "outputId": "dfee1a66-fed2-495d-cc82-8a3ecfdc382e"
      },
      "execution_count": 73,
      "outputs": [
        {
          "output_type": "execute_result",
          "data": {
            "text/plain": [
              "Low Fat    5517\n",
              "Regular    3006\n",
              "Name: Item_Fat_Content, dtype: int64"
            ]
          },
          "metadata": {},
          "execution_count": 73
        }
      ]
    },
    {
      "cell_type": "code",
      "source": [
        "# FIND AND FIX ANY INCONSISTENT CATEGORIES OF DATA:\n",
        "# For any numerical columns, obtain the summary statistics of each (min, max, mean).\n",
        "summary_stats = df.describe()\n",
        "print(summary_stats)"
      ],
      "metadata": {
        "id": "Nnro16Bi1dwS",
        "colab": {
          "base_uri": "https://localhost:8080/"
        },
        "outputId": "80b530ed-0b79-45f5-9906-b90a9ae3fccf"
      },
      "execution_count": 79,
      "outputs": [
        {
          "output_type": "stream",
          "name": "stdout",
          "text": [
            "       Item_Visibility     Item_MRP  Outlet_Establishment_Year  \\\n",
            "count      8523.000000  8523.000000                8523.000000   \n",
            "mean          0.066132   140.992782                1997.831867   \n",
            "std           0.051598    62.275067                   8.371760   \n",
            "min           0.000000    31.290000                1985.000000   \n",
            "25%           0.026989    93.826500                1987.000000   \n",
            "50%           0.053931   143.012800                1999.000000   \n",
            "75%           0.094585   185.643700                2004.000000   \n",
            "max           0.328391   266.888400                2009.000000   \n",
            "\n",
            "       Item_Outlet_Sales  \n",
            "count        8523.000000  \n",
            "mean         2181.288914  \n",
            "std          1706.499616  \n",
            "min            33.290000  \n",
            "25%           834.247400  \n",
            "50%          1794.331000  \n",
            "75%          3101.296400  \n",
            "max         13086.964800  \n"
          ]
        }
      ]
    },
    {
      "cell_type": "markdown",
      "source": [
        "## Exploratory Data Analysis"
      ],
      "metadata": {
        "id": "C97u0jnB1J8B"
      }
    },
    {
      "cell_type": "markdown",
      "source": [
        "## Feature Inspection"
      ],
      "metadata": {
        "id": "23ULZCoj1ObS"
      }
    }
  ]
}